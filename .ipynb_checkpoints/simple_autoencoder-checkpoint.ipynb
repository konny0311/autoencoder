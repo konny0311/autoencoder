{
 "cells": [
  {
   "cell_type": "code",
   "execution_count": null,
   "metadata": {},
   "outputs": [],
   "source": [
    "from keras.layers import Input, Dense\n",
    "from keras.models import Model\n",
    "from keras.datasets import mnist\n",
    "import numpy as np\n",
    "\n",
    "encoding_dim = 32\n",
    "SHAPE_NUM = 784\n",
    "DIM = 128\n",
    "\n",
    "input_img = Input(shape=(SHAPE_NUM,))\n",
    "\n",
    "encoded = Dense(DIM, activation='relu')(input_img)\n",
    "encoded = Dense(int(DIM/2), activation='relu')(encoded)\n",
    "encoded = Dense(int(DIM/4), activation='relu')(encoded)\n",
    "\n",
    "decoded = Dense(int(DIM/2), activation='relu')(encoded)\n",
    "decoded = Dense(DIM, activation='relu')(decoded)\n",
    "decoded = Dense(SHAPE_NUM, activation='sigmoid')(decoded)\n",
    "\n",
    "autoencoder = Model(input_img, decoded)\n",
    "autoencoder.compile(optimizer='adadelta', loss='binary_crossentropy')"
   ]
  },
  {
   "cell_type": "code",
   "execution_count": null,
   "metadata": {},
   "outputs": [],
   "source": [
    "(x_train,_), (x_test,_) = mnist.load_data()\n",
    "x_train = x_train.astype('float32') / 255.\n",
    "x_test = x_test.astype('float32') / 255.\n",
    "x_train = x_train.reshape((len(x_train), np.prod(x_train.shape[1:])))\n",
    "x_test = x_test.reshape((len(x_test), np.prod(x_test.shape[1:])))\n",
    "print(x_train.shape)\n",
    "print(x_test.shape)\n",
    "\n",
    "autoencoder.fit(x_train, x_train,\n",
    "                            epochs=100,\n",
    "                            batch_size=256,\n",
    "                            shuffle=True,\n",
    "                            validation_data=(x_test, x_test))\n"
   ]
  },
  {
   "cell_type": "code",
   "execution_count": null,
   "metadata": {},
   "outputs": [],
   "source": [
    "import matplotlib.pyplot as plt\n",
    "\n",
    "# n = 10\n",
    "# plt.figure(figsize=(20,4))\n",
    "# for i in range(n):\n",
    "#     ax = plt.subplot(2,n,i+1)\n",
    "#     plt.imshow(x_test[i].reshape(28,28))\n",
    "#     plt.gray()\n",
    "#     ax.get_xaxis().set_visible(False)\n",
    "#     ax.get_yaxis().set_visible(False)\n",
    "    \n",
    "#     ax = plt.subplot(2,n,i+1+n)\n",
    "#     plt.imshow(decoded_imgs[i].reshape(28,28))\n",
    "#     plt.gray()\n",
    "#     ax.get_xaxis().set_visible(False)\n",
    "#     ax.get_yaxis().set_visible(False)\n",
    "# plt.show()    \n",
    "\n",
    "autoencoded_imgs = autoencoder.predict(x_test)\n",
    "\n",
    "# n = 10\n",
    "# plt.figure(figsize=(20,4))\n",
    "# for i in range(n):\n",
    "#     ax = plt.subplot(2,n,i+1)\n",
    "#     plt.imshow(x_test[i].reshape(28,28))\n",
    "#     plt.gray()\n",
    "#     ax.get_xaxis().set_visible(False)\n",
    "#     ax.get_yaxis().set_visible(False)\n",
    "    \n",
    "#     ax = plt.subplot(2,n,i+1+n)\n",
    "#     plt.imshow(autoencoded_imgs[i].reshape(28,28))\n",
    "#     plt.gray()\n",
    "#     ax.get_xaxis().set_visible(False)\n",
    "#     ax.get_yaxis().set_visible(False)\n",
    "# plt.show()  \n",
    "\n"
   ]
  }
 ],
 "metadata": {
  "kernelspec": {
   "display_name": "Python 3",
   "language": "python",
   "name": "python3"
  },
  "language_info": {
   "codemirror_mode": {
    "name": "ipython",
    "version": 3
   },
   "file_extension": ".py",
   "mimetype": "text/x-python",
   "name": "python",
   "nbconvert_exporter": "python",
   "pygments_lexer": "ipython3",
   "version": "3.6.6"
  }
 },
 "nbformat": 4,
 "nbformat_minor": 2
}
